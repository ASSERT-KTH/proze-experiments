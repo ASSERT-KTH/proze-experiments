{
 "cells": [
  {
   "cell_type": "code",
   "execution_count": null,
   "id": "94239500",
   "metadata": {},
   "outputs": [],
   "source": [
    "import datetime\n",
    "import fileinput\n",
    "import glob\n",
    "import json\n",
    "import os\n",
    "import re\n",
    "import subprocess\n",
    "import sys"
   ]
  },
  {
   "cell_type": "markdown",
   "id": "7e13681c",
   "metadata": {},
   "source": [
    "## Data"
   ]
  },
  {
   "cell_type": "code",
   "execution_count": null,
   "id": "7a913875",
   "metadata": {},
   "outputs": [],
   "source": [
    "def read_mut_data(path): \n",
    "    input_file = open(path, \"r\")\n",
    "    project_targets = json.loads(input_file.read())\n",
    "    input_file.close()\n",
    "    return project_targets"
   ]
  },
  {
   "cell_type": "markdown",
   "id": "07fd3ca9",
   "metadata": {},
   "source": [
    "## Test runner"
   ]
  },
  {
   "cell_type": "code",
   "execution_count": null,
   "id": "e5a3bd19",
   "metadata": {},
   "outputs": [],
   "source": [
    "def install_parent_module(target):\n",
    "    os.chdir(target[\"parent-module-path\"])\n",
    "    process = subprocess.Popen(['mvn', 'clean', 'install', '-DskipTests'],\n",
    "                               stdout=subprocess.PIPE, \n",
    "                               stderr=subprocess.PIPE)\n",
    "    output_to_log(\"[LOG] Invoked a clean install of the parent module with {}\".format(process.args))\n",
    "    stdout, stderr = process.communicate()\n",
    "    output_to_log(stdout.decode(\"utf-8\"))\n",
    "    output_to_log(stderr.decode(\"utf-8\"))\n",
    "    output_to_log(\"---------------------------------------------------\")\n",
    "    os.chdir(experiment_directory)\n",
    "    # if compilation fails\n",
    "    if (\"COMPILATION ERROR\" in stdout.decode(\"utf-8\")):\n",
    "        output_to_log(\"[LOG] Skipping this mutant, restoring original \" + target[\"parent-file\"])\n",
    "        return False\n",
    "    return True"
   ]
  },
  {
   "cell_type": "code",
   "execution_count": null,
   "id": "72737739",
   "metadata": {},
   "outputs": [],
   "source": [
    "def run_mvn_test(test, mode):\n",
    "    result = \"\"\n",
    "    if (mode == \"original\"):\n",
    "        output_to_log(\"[LOG] Running original test \" + test[\"original-test\"])\n",
    "        os.chdir(test[\"original-test-module-path\"])\n",
    "        output_to_log(\"[LOG] In test module directory \" + os.getcwd())\n",
    "        # run original test\n",
    "        run_test_method = \"-Dtest=\" + test[\"original-test\"]\n",
    "        process = subprocess.Popen(['mvn', 'test', run_test_method],\n",
    "                                   stdout=subprocess.PIPE, \n",
    "                                   stderr=subprocess.PIPE)\n",
    "        output_to_log(\"[LOG] Invoked tests with {}\".format(process.args))\n",
    "        stdout, stderr = process.communicate()\n",
    "        result = stdout.decode(\"utf-8\")\n",
    "        output_to_log(result)\n",
    "        output_to_log(stderr.decode(\"utf-8\"))\n",
    "    else:\n",
    "        output_to_log(\"[LOG] Running parameterized test \" + test[\"param-test-class\"])\n",
    "        os.chdir(test[\"param-test-module-path\"])\n",
    "        output_to_log(\"[LOG] In test module directory \" + os.getcwd())\n",
    "        # run parameterized test\n",
    "        run_test_class = \"-Dtest=\" + test[\"param-test-class\"]\n",
    "        process = subprocess.Popen(['mvn', 'test', run_test_class],\n",
    "                                   stdout=subprocess.PIPE, \n",
    "                                   stderr=subprocess.PIPE)\n",
    "        output_to_log(\"[LOG] Invoked tests with {}\".format(process.args))\n",
    "        stdout, stderr = process.communicate()\n",
    "        result = stdout.decode(\"utf-8\")\n",
    "        output_to_log(result)\n",
    "        output_to_log(stderr.decode(\"utf-8\"))\n",
    "    \n",
    "    output_to_log(\"---------------------------------------------------\")\n",
    "\n",
    "    # store result here\n",
    "    result = re.search(r\"(Tests run:.*)\\n\", result).group(1)\n",
    "\n",
    "    # cd back into experiment directory\n",
    "    os.chdir(experiment_directory)\n",
    "    output_to_log(\"[LOG] In experiment directory \" + os.getcwd())\n",
    "    output_to_log(\"---------------------------------------------------\")\n",
    "    \n",
    "    return result"
   ]
  },
  {
   "cell_type": "markdown",
   "id": "2e032e83",
   "metadata": {},
   "source": [
    "## Util"
   ]
  },
  {
   "cell_type": "code",
   "execution_count": null,
   "id": "2e7bf2d3",
   "metadata": {},
   "outputs": [],
   "source": [
    "def output_to_log(message):\n",
    "    with open(mut_mutation_log_path, 'a+') as logfile:\n",
    "        logfile.write(message)\n",
    "        logfile.write(\"\\n\")"
   ]
  },
  {
   "cell_type": "code",
   "execution_count": null,
   "id": "acc4f973",
   "metadata": {},
   "outputs": [],
   "source": [
    "def cleanup_existing_results():\n",
    "    output_to_log(\"[LOG] Removing pre-existing mutants from current working directory\")\n",
    "    os.system('rm -rf *.java/')\n",
    "    output_to_log(\"[LOG] Cleaning up LittleDarwin results\")\n",
    "    os.system('rm -rf ' + littledarwin_results_path)"
   ]
  },
  {
   "cell_type": "code",
   "execution_count": null,
   "id": "c14cc792",
   "metadata": {},
   "outputs": [],
   "source": [
    "def get_mutant_files(parent):\n",
    "    mutants = ('./' + parent + '/[0-9]*.java')\n",
    "    mutant_files = sorted(glob.glob(mutants))\n",
    "    return mutant_files"
   ]
  },
  {
   "cell_type": "code",
   "execution_count": null,
   "id": "84b7101c",
   "metadata": {},
   "outputs": [],
   "source": [
    "def copy_littledarwin_results(parent):\n",
    "    output_to_log(\"[LOG] Copying mutants of \" + parent)\n",
    "    os.system('cp -r ' + littledarwin_results_path + parent + \" ./\")"
   ]
  },
  {
   "cell_type": "code",
   "execution_count": null,
   "id": "1f33ec4f",
   "metadata": {},
   "outputs": [],
   "source": [
    "def run_littledarwin(path):\n",
    "    output_to_log(\"[LOG] Running littledarwin on \" + path)\n",
    "    process = subprocess.Popen(['python3', '-m', 'littledarwin', '-m', '-v', '-p', path, '--all'],\n",
    "                               stdout=subprocess.PIPE, \n",
    "                               stderr=subprocess.PIPE)\n",
    "    output_to_log(\"[LOG] Invoked LitteDarwin with {}\".format(process.args))\n",
    "    stdout, stderr = process.communicate()\n",
    "    output_to_log(stdout.decode(\"utf-8\"))\n",
    "    output_to_log(stderr.decode(\"utf-8\"))"
   ]
  },
  {
   "cell_type": "code",
   "execution_count": null,
   "id": "e926abfd",
   "metadata": {},
   "outputs": [],
   "source": [
    "def find_if_mutant_is_in_mut(target, mutant_file):\n",
    "    search_string = \"line number in original file: \"\n",
    "    found = \"\"\n",
    "    with open(mutant_file, 'r') as fp:\n",
    "        for l_no, line in enumerate(fp):\n",
    "            # search string\n",
    "            if search_string in line:\n",
    "                found = line\n",
    "                print(\"Processing mutant file\", mutant_file)\n",
    "                print(\"mutant found:\", found)\n",
    "                break\n",
    "                \n",
    "    result = int(re.search(r\"(line number in original file:\\s)(\\d+)\", found).group(2))\n",
    "    return result >= target[\"mut-start-line\"] and result <= target[\"mut-end-line\"]"
   ]
  },
  {
   "cell_type": "code",
   "execution_count": null,
   "id": "6f214f36",
   "metadata": {},
   "outputs": [],
   "source": [
    "def copy_mutant_files_to_output_directory(target):\n",
    "    mutants_in_experiment_directory = experiment_directory + target[\"parent-file\"]\n",
    "    path_for_mutants = output_directory + target[\"mut\"] + \"/\"\n",
    "    output_to_log(\"[LOG] Copying littledarwin mutants to \" + path_for_mutants)\n",
    "    process = subprocess.Popen(['cp', '-r', mutants_in_experiment_directory, path_for_mutants],\n",
    "                               stdout=subprocess.PIPE, \n",
    "                               stderr=subprocess.PIPE)\n",
    "    output_to_log(\"[LOG] Invoked copying with {}\".format(process.args))\n",
    "    stdout, stderr = process.communicate()\n",
    "    output_to_log(stdout.decode(\"utf-8\"))\n",
    "    output_to_log(stderr.decode(\"utf-8\"))"
   ]
  },
  {
   "cell_type": "markdown",
   "id": "0f9dc766",
   "metadata": {},
   "source": [
    "## Mutation analysis"
   ]
  },
  {
   "cell_type": "code",
   "execution_count": null,
   "id": "78a5fa41",
   "metadata": {},
   "outputs": [],
   "source": [
    "def run_experiment_with_mutant_file(target, mutant_file, original_file):\n",
    "    output_to_log(\"[LOG] Replacing original \" + target[\"parent-file\"] + \" with \" + mutant_file)\n",
    "    replace_original_with_mutant = \"cp \" + mutant_file + \" \" + target[\"parent-path\"] + target[\"parent-file\"]\n",
    "    output_to_log(\"[LOG] Invoking \" + replace_original_with_mutant)\n",
    "    os.system(replace_original_with_mutant)\n",
    "    \n",
    "    # cd into parent module, make a clean install, cd back into experiments directory\n",
    "    mutant_compilable = install_parent_module(target)\n",
    "    \n",
    "    if mutant_compilable:\n",
    "        target_report = {\n",
    "            \"mut\": target[\"mut\"],\n",
    "            \"CUT\": target[\"parent-fqn\"],\n",
    "            \"mutant-file\": mutant_file,\n",
    "            \"mutant-within-mut\": True,\n",
    "            \"tests\": []\n",
    "        }\n",
    "\n",
    "        for t in range(len(target[\"tests\"])):\n",
    "            test = {}\n",
    "            test[\"test\"] = target[\"tests\"][t][\"original-test\"]\n",
    "            # execute original test\n",
    "            test[\"result_original\"] = run_mvn_test(target[\"tests\"][t], \"original\")\n",
    "            # execute parameterized test\n",
    "            test[\"result-parameterized\"] = run_mvn_test(target[\"tests\"][t], \"parameterized\")\n",
    "            target_report[\"tests\"].append(test)\n",
    "\n",
    "        mutation_report_file = output_directory + target[\"mut\"] + \"/mutation-report.json\"\n",
    "\n",
    "        with open(mutation_report_file, 'a+') as outfile:\n",
    "            json.dump(target_report, outfile, indent=4)\n",
    "            outfile.write(\",\\n\")\n",
    "        \n",
    "    output_to_log(\"[LOG] Resetting \" + target[\"parent-file\"] + \" to original\")\n",
    "    replace_mutant_with_original = \"cp \" + original_file + \" \" + target[\"parent-path\"] + target[\"parent-file\"]\n",
    "    output_to_log(\"[LOG] Invoking \" + replace_mutant_with_original)\n",
    "    os.system(replace_mutant_with_original)"
   ]
  },
  {
   "cell_type": "code",
   "execution_count": null,
   "id": "2ab853b7",
   "metadata": {},
   "outputs": [],
   "source": [
    "def run_mutation_analysis(target):\n",
    "    global mut_mutation_log_path\n",
    "    mut_mutation_log_path = output_directory + target[\"mut\"] + \"/mutation-analysis.log\"\n",
    "    os.makedirs(os.path.dirname(mut_mutation_log_path), exist_ok=True)\n",
    "    \n",
    "    output_to_log(\"[LOG] Initiating analysis at \" + str(datetime.datetime.now()))\n",
    "    output_to_log(\"---------------------------------------------------\")\n",
    "    \n",
    "    # housekeeping\n",
    "    cleanup_existing_results()\n",
    "    output_to_log(\"---------------------------------------------------\")\n",
    "\n",
    "    output_to_log(\"[LOG] Working with \" + target[\"mut\"])\n",
    "    output_to_log(\"[LOG] Generating mutants for its parent \" + target[\"parent-file\"])\n",
    "    output_to_log(\"---------------------------------------------------\")\n",
    "    \n",
    "    # run littledarwin\n",
    "    run_littledarwin(target[\"parent-path\"])    \n",
    "    output_to_log(\"---------------------------------------------------\")\n",
    "    \n",
    "    # copy littledarwin results to current directory\n",
    "    copy_littledarwin_results(target[\"parent-file\"])\n",
    "    output_to_log(\"---------------------------------------------------\")\n",
    "\n",
    "    # get list of mutant files\n",
    "    mutant_files = get_mutant_files(target[\"parent-file\"])\n",
    "    output_to_log(\"[LOG] Generated \" + str(len(mutant_files)) + \" mutants\")\n",
    "    output_to_log(\"---------------------------------------------------\")\n",
    "\n",
    "    # get original file\n",
    "    original_file = glob.glob(r'./' + target[\"parent-file\"] + '/original.java')[0]\n",
    "    \n",
    "    for f in range(len(mutant_files)):\n",
    "        if find_if_mutant_is_in_mut(target, mutant_files[f]):\n",
    "            run_experiment_with_mutant_file(target, mutant_files[f], original_file)\n",
    "            output_to_log(\"---------------------------------------------------\")\n",
    "    \n",
    "    # copy all mutants to output folder\n",
    "    copy_mutant_files_to_output_directory(target)\n",
    "    \n",
    "    output_to_log(\"---------------------------------------------------\")\n",
    "    output_to_log(\"[LOG] Finishing analysis at \" + str(datetime.datetime.now()))\n",
    "    \n",
    "    output_to_log(\"====== END OF THE LINE ======\")"
   ]
  },
  {
   "cell_type": "code",
   "execution_count": null,
   "id": "eee506af",
   "metadata": {},
   "outputs": [],
   "source": [
    "# for each mut:\n",
    "## invoke LitteDarwin to generate mutants\n",
    "## for each mutant:\n",
    "### replace original parent class with mutated\n",
    "### run original test > save log\n",
    "### run parameterized test > save log\n",
    "### restore original parent class\n",
    "\n",
    "def main():\n",
    "    global experiment_directory\n",
    "    global output_directory\n",
    "    global littledarwin_results_path\n",
    "    global oo_string\n",
    "    global po_string\n",
    "    global co_string\n",
    "\n",
    "    experiment_directory = \"/home/dee/dev/fakir/proze-experiments/pdfbox/mutation-analysis/\"\n",
    "    output_directory = experiment_directory + \"output/\"\n",
    "    littledarwin_results_path = \"/home/dee/anaconda3/lib/python3.8/site-packages/littledarwin/LittleDarwinResults/\"\n",
    "    \n",
    "    os.chdir(experiment_directory)\n",
    "    targets_pdfbox = read_mut_data(\"/home/dee/dev/fakir/proze-experiments/pdfbox/mutation-analysis/muts-pdfbox.json\")\n",
    "\n",
    "    print(\"Found\", len(targets_pdfbox), \"MUTs for PDFBox\")    \n",
    "    \n",
    "    print(\"Working with PDFBox MUTs\")\n",
    "    for target in targets_pdfbox:\n",
    "        print(\"Currently processing\", target[\"mut\"])\n",
    "        print(\"Details:\", target)\n",
    "        run_mutation_analysis(target)"
   ]
  },
  {
   "cell_type": "code",
   "execution_count": null,
   "id": "8a2d394b",
   "metadata": {},
   "outputs": [],
   "source": [
    "main()"
   ]
  },
  {
   "cell_type": "code",
   "execution_count": null,
   "id": "9c54aa64",
   "metadata": {},
   "outputs": [],
   "source": []
  }
 ],
 "metadata": {
  "kernelspec": {
   "display_name": "Python 3",
   "language": "python",
   "name": "python3"
  },
  "language_info": {
   "codemirror_mode": {
    "name": "ipython",
    "version": 3
   },
   "file_extension": ".py",
   "mimetype": "text/x-python",
   "name": "python",
   "nbconvert_exporter": "python",
   "pygments_lexer": "ipython3",
   "version": "3.8.8"
  }
 },
 "nbformat": 4,
 "nbformat_minor": 5
}
