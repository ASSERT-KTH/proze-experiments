{
 "cells": [
  {
   "cell_type": "code",
   "execution_count": 1,
   "id": "1d70d96a",
   "metadata": {},
   "outputs": [],
   "source": [
    "import json\n",
    "import re"
   ]
  },
  {
   "cell_type": "code",
   "execution_count": 2,
   "id": "592646ec",
   "metadata": {},
   "outputs": [],
   "source": [
    "def get_methods_invoked_by_each_test(descartes_report_path):\n",
    "    input_file = open(descartes_report_path, \"r\")\n",
    "    descartes_report = json.loads(input_file.read())\n",
    "    input_file.close()\n",
    "    test_covered_method_map = {} \n",
    "    for m in range(len(descartes_report[\"methods\"])):\n",
    "        current_method = descartes_report[\"methods\"][m]\n",
    "        for t in range(len(current_method[\"tests\"])):\n",
    "            current_test = re.sub(r\"\\(.+\\)\", \"\", current_method[\"tests\"][t])\n",
    "            if current_test in target_tests:\n",
    "                if current_test not in test_covered_method_map:\n",
    "                    test_covered_method_map[current_test] = [current_method[\"class\"] + \".\" + current_method[\"name\"] + \":\" + str(current_method[\"line-number\"])]\n",
    "                else:\n",
    "                    test_covered_method_map[current_test].append(current_method[\"class\"] + \".\" + current_method[\"name\"] + \":\" + str(current_method[\"line-number\"]))\n",
    "    \n",
    "    return test_covered_method_map"
   ]
  },
  {
   "cell_type": "code",
   "execution_count": 3,
   "id": "f7c5fbeb",
   "metadata": {},
   "outputs": [],
   "source": [
    "def get_set_of_target_tests(analysis_report_path):\n",
    "    input_file = open(analysis_report_path, \"r\")\n",
    "    analysis_report = json.loads(input_file.read())\n",
    "    input_file.close()\n",
    "    target_tests = set()\n",
    "    for m in range(len(analysis_report)):\n",
    "        for t in range(len(analysis_report[m][\"invokedByTests\"])):\n",
    "            target_tests.add(analysis_report[m][\"invokedByTests\"][t])\n",
    "    \n",
    "    return target_tests"
   ]
  },
  {
   "cell_type": "code",
   "execution_count": 4,
   "id": "955aa20a",
   "metadata": {},
   "outputs": [],
   "source": [
    "def main():\n",
    "    global target_tests\n",
    "    \n",
    "    proze_analysis_report = \"/home/dee/dev/fakir/proze/generate/analyzed-method-wise-report-pdfbox.json\"\n",
    "    target_tests = get_set_of_target_tests(proze_analysis_report)\n",
    "    descartes_fontbox = \"/home/dee/dev/fakir/proze-experiments/pdfbox/descartes/descartes-fontbox.json\"\n",
    "    test_method_map = get_methods_invoked_by_each_test(descartes_fontbox)\n",
    "    output_file = \"fontbox-test-covered-methods.json\"\n",
    "    with open(output_file, \"w\") as outfile:\n",
    "        json.dump(test_method_map, outfile, indent = 2)"
   ]
  },
  {
   "cell_type": "code",
   "execution_count": 5,
   "id": "756c4d04",
   "metadata": {},
   "outputs": [],
   "source": [
    "main()"
   ]
  },
  {
   "cell_type": "code",
   "execution_count": 6,
   "id": "f7dea8a8",
   "metadata": {},
   "outputs": [],
   "source": [
    "# todo: currently does not include methods called across modules "
   ]
  },
  {
   "cell_type": "code",
   "execution_count": null,
   "id": "cf9afca1",
   "metadata": {},
   "outputs": [],
   "source": []
  },
  {
   "cell_type": "code",
   "execution_count": null,
   "id": "36e45834",
   "metadata": {},
   "outputs": [],
   "source": []
  }
 ],
 "metadata": {
  "kernelspec": {
   "display_name": "Python 3",
   "language": "python",
   "name": "python3"
  },
  "language_info": {
   "codemirror_mode": {
    "name": "ipython",
    "version": 3
   },
   "file_extension": ".py",
   "mimetype": "text/x-python",
   "name": "python",
   "nbconvert_exporter": "python",
   "pygments_lexer": "ipython3",
   "version": "3.8.8"
  }
 },
 "nbformat": 4,
 "nbformat_minor": 5
}
